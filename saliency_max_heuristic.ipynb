{
 "cells": [
  {
   "cell_type": "code",
   "execution_count": 1,
   "metadata": {
    "collapsed": true
   },
   "outputs": [],
   "source": [
    "import numpy as np"
   ]
  },
  {
   "cell_type": "code",
   "execution_count": 2,
   "metadata": {
    "collapsed": false
   },
   "outputs": [
    {
     "name": "stdout",
     "output_type": "stream",
     "text": [
      "[[[[56 34]\n",
      "   [16 13]]\n",
      "\n",
      "  [[64 26]\n",
      "   [62 70]]\n",
      "\n",
      "  [[72  2]\n",
      "   [29 93]]]\n",
      "\n",
      "\n",
      " [[[35 53]\n",
      "   [ 7 16]]\n",
      "\n",
      "  [[75 49]\n",
      "   [48 31]]\n",
      "\n",
      "  [[48 19]\n",
      "   [12 14]]]\n",
      "\n",
      "\n",
      " [[[98 10]\n",
      "   [39 24]]\n",
      "\n",
      "  [[15 22]\n",
      "   [ 9 50]]\n",
      "\n",
      "  [[87 90]\n",
      "   [29 75]]]\n",
      "\n",
      "\n",
      " [[[ 0 53]\n",
      "   [60 34]]\n",
      "\n",
      "  [[38 84]\n",
      "   [72 36]]\n",
      "\n",
      "  [[18  0]\n",
      "   [73 58]]]\n",
      "\n",
      "\n",
      " [[[29 13]\n",
      "   [21 10]]\n",
      "\n",
      "  [[ 5  8]\n",
      "   [91 33]]\n",
      "\n",
      "  [[52 18]\n",
      "   [28  1]]]]\n"
     ]
    }
   ],
   "source": [
    "a = np.random.randint(100, size=(5, 3, 2, 2))\n",
    "print(a)"
   ]
  },
  {
   "cell_type": "code",
   "execution_count": 3,
   "metadata": {
    "collapsed": false
   },
   "outputs": [
    {
     "name": "stdout",
     "output_type": "stream",
     "text": [
      "[[[56 34]\n",
      "  [16 13]]\n",
      "\n",
      " [[64 26]\n",
      "  [62 70]]\n",
      "\n",
      " [[72  2]\n",
      "  [29 93]]]\n"
     ]
    }
   ],
   "source": [
    "b = a[0]\n",
    "print(b)"
   ]
  },
  {
   "cell_type": "code",
   "execution_count": 4,
   "metadata": {
    "collapsed": false
   },
   "outputs": [
    {
     "data": {
      "text/plain": [
       "array([[72, 34],\n",
       "       [62, 93]])"
      ]
     },
     "execution_count": 4,
     "metadata": {},
     "output_type": "execute_result"
    }
   ],
   "source": [
    "np.max(b, axis=0)"
   ]
  },
  {
   "cell_type": "code",
   "execution_count": 5,
   "metadata": {
    "collapsed": false
   },
   "outputs": [
    {
     "name": "stdout",
     "output_type": "stream",
     "text": [
      "[[[-5 -2 -2 -2]\n",
      "  [-2 -5 -5 -5]\n",
      "  [-3 -5 -2 -3]\n",
      "  [-3 -4 -4 -2]]\n",
      "\n",
      " [[-3 -4 -4 -3]\n",
      "  [-2 -3 -2 -4]\n",
      "  [-4 -3 -4 -3]\n",
      "  [-5 -5 -5 -5]]\n",
      "\n",
      " [[-4 -2 -3 -4]\n",
      "  [-5 -2 -2 -5]\n",
      "  [-5 -2 -2 -3]\n",
      "  [-3 -2 -5 -3]]]\n",
      "[[[5 2 2 2]\n",
      "  [2 5 5 5]\n",
      "  [3 5 2 3]\n",
      "  [3 4 4 2]]\n",
      "\n",
      " [[3 4 4 3]\n",
      "  [2 3 2 4]\n",
      "  [4 3 4 3]\n",
      "  [5 5 5 5]]\n",
      "\n",
      " [[4 2 3 4]\n",
      "  [5 2 2 5]\n",
      "  [5 2 2 3]\n",
      "  [3 2 5 3]]]\n"
     ]
    }
   ],
   "source": [
    "a = np.random.randint(-5, -1, (3, 4, 4))\n",
    "print(a)\n",
    "print(np.abs(a))"
   ]
  },
  {
   "cell_type": "code",
   "execution_count": 6,
   "metadata": {
    "collapsed": false
   },
   "outputs": [
    {
     "name": "stdout",
     "output_type": "stream",
     "text": [
      "[[ 9 48  1 82 74 99 73 65 25 21  1 27 57 60  9  4 30 45 31 53 16 41 82 52\n",
      "  57 39 40 50 34 90 58 58 16 21 84 28 82 88  5 57 77 62 75 21 63 31 97  7\n",
      "  63 25 56 14 81 96 53 43 33 66 77  1 30 68 95 31 63 23 21 59 95 64 44 74\n",
      "  35 73 66 53 49 50 93 78 38 36 85 10 18 60 70 47 50 18 69 35 51 86 40 38\n",
      "  39 74 52 49]]\n"
     ]
    }
   ],
   "source": [
    "s = np.random.randint(100, size=(1, 100))\n",
    "print(s)"
   ]
  },
  {
   "cell_type": "code",
   "execution_count": 7,
   "metadata": {
    "collapsed": false
   },
   "outputs": [
    {
     "data": {
      "text/plain": [
       "59"
      ]
     },
     "execution_count": 7,
     "metadata": {},
     "output_type": "execute_result"
    }
   ],
   "source": [
    "s[0, 67]"
   ]
  },
  {
   "cell_type": "code",
   "execution_count": 8,
   "metadata": {
    "collapsed": false
   },
   "outputs": [
    {
     "data": {
      "text/plain": [
       "1"
      ]
     },
     "execution_count": 8,
     "metadata": {},
     "output_type": "execute_result"
    }
   ],
   "source": [
    "s[0, 2]"
   ]
  },
  {
   "cell_type": "code",
   "execution_count": 12,
   "metadata": {
    "collapsed": true
   },
   "outputs": [],
   "source": [
    "a = np.array([67])"
   ]
  },
  {
   "cell_type": "code",
   "execution_count": 13,
   "metadata": {
    "collapsed": false
   },
   "outputs": [
    {
     "data": {
      "text/plain": [
       "(1,)"
      ]
     },
     "execution_count": 13,
     "metadata": {},
     "output_type": "execute_result"
    }
   ],
   "source": [
    "a.shape"
   ]
  },
  {
   "cell_type": "code",
   "execution_count": 14,
   "metadata": {
    "collapsed": false
   },
   "outputs": [
    {
     "data": {
      "text/plain": [
       "67"
      ]
     },
     "execution_count": 14,
     "metadata": {},
     "output_type": "execute_result"
    }
   ],
   "source": [
    "a[0]"
   ]
  },
  {
   "cell_type": "code",
   "execution_count": null,
   "metadata": {
    "collapsed": true
   },
   "outputs": [],
   "source": []
  }
 ],
 "metadata": {
  "kernelspec": {
   "display_name": "Python 3",
   "language": "python",
   "name": "python3"
  },
  "language_info": {
   "codemirror_mode": {
    "name": "ipython",
    "version": 3
   },
   "file_extension": ".py",
   "mimetype": "text/x-python",
   "name": "python",
   "nbconvert_exporter": "python",
   "pygments_lexer": "ipython3",
   "version": "3.5.2"
  }
 },
 "nbformat": 4,
 "nbformat_minor": 2
}
