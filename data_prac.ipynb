{
 "cells": [
  {
   "cell_type": "code",
   "execution_count": 1,
   "metadata": {
    "collapsed": false
   },
   "outputs": [
    {
     "name": "stdout",
     "output_type": "stream",
     "text": [
      "hello world\n",
      "fuck off\n",
      "jack off\n",
      "29\n"
     ]
    }
   ],
   "source": [
    "data = open('example.txt', 'r').read()\n",
    "print(data)\n",
    "data_size = len(data)\n",
    "print(data_size)"
   ]
  },
  {
   "cell_type": "code",
   "execution_count": 5,
   "metadata": {
    "collapsed": false
   },
   "outputs": [
    {
     "name": "stdout",
     "output_type": "stream",
     "text": [
      "['\\n', 'c', 'u', 'a', 'j', 'w', 'd', ' ', 'h', 'r', 'l', 'f', 'e', 'o', 'k']\n"
     ]
    }
   ],
   "source": [
    "vocab = list(set(data))\n",
    "print(vocab)"
   ]
  },
  {
   "cell_type": "code",
   "execution_count": 6,
   "metadata": {
    "collapsed": false
   },
   "outputs": [
    {
     "name": "stdout",
     "output_type": "stream",
     "text": [
      "{'\\n': 0, 'c': 1, 'a': 3, 'j': 4, 'u': 2, 'w': 5, 'd': 6, ' ': 7, 'h': 8, 'r': 9, 'l': 10, 'e': 12, 'f': 11, 'o': 13, 'k': 14}\n"
     ]
    }
   ],
   "source": [
    "char_to_index = {ch: idx for idx, ch in enumerate(vocab)}\n",
    "print(char_to_index)"
   ]
  },
  {
   "cell_type": "code",
   "execution_count": 7,
   "metadata": {
    "collapsed": false
   },
   "outputs": [
    {
     "name": "stdout",
     "output_type": "stream",
     "text": [
      "{0: '\\n', 1: 'c', 2: 'u', 3: 'a', 4: 'j', 5: 'w', 6: 'd', 7: ' ', 8: 'h', 9: 'r', 10: 'l', 11: 'f', 12: 'e', 13: 'o', 14: 'k'}\n"
     ]
    }
   ],
   "source": [
    "index_to_char = {idx:ch for idx, ch in enumerate(vocab)}\n",
    "print(index_to_char)"
   ]
  },
  {
   "cell_type": "code",
   "execution_count": 9,
   "metadata": {
    "collapsed": false
   },
   "outputs": [
    {
     "name": "stdout",
     "output_type": "stream",
     "text": [
      "hello w\n",
      "[8, 12, 10, 10, 13, 7, 5]\n"
     ]
    }
   ],
   "source": [
    "batch_size = 7\n",
    "sequence_in_batch = data[0:7]\n",
    "print(sequence_in_batch)\n",
    "batch_of_inputs = [char_to_index[ch] for ch in data[0:7]]\n",
    "print(batch_of_inputs)"
   ]
  },
  {
   "cell_type": "code",
   "execution_count": 10,
   "metadata": {
    "collapsed": true
   },
   "outputs": [],
   "source": [
    "import numpy as np"
   ]
  },
  {
   "cell_type": "code",
   "execution_count": 13,
   "metadata": {
    "collapsed": false
   },
   "outputs": [
    {
     "name": "stdout",
     "output_type": "stream",
     "text": [
      "[[-0.17669569 -1.38886693 -0.45413316  0.41283678  1.20177178  0.67960782\n",
      "  -0.78053177 -3.43861033  1.85833387  0.25805631]\n",
      " [-0.1237474   0.90196055 -0.46519763 -0.12861685 -1.67132386 -1.21984655\n",
      "   2.44881421 -0.84248357  0.19196002  0.20319622]\n",
      " [-2.02533941  1.13937994 -1.41230167 -0.33037942 -0.17896474 -1.30833564\n",
      "  -0.23079015 -0.0387455   0.66272125  1.19151456]\n",
      " [-0.7867974  -0.43083684 -0.84853928 -0.34233434  0.14470524  1.50237181\n",
      "   0.07752311 -0.37340453  0.05096408 -1.20570467]\n",
      " [ 0.72868215  1.40632391  1.60517373  0.34977921  0.53220667  1.197089\n",
      "  -0.74963268 -0.14154246 -0.44917682 -1.64490911]]\n",
      "(5, 10)\n"
     ]
    }
   ],
   "source": [
    "a_shape = (5, 10)\n",
    "v = np.random.randn(*a_shape)\n",
    "print(v)\n",
    "print(v.shape)"
   ]
  },
  {
   "cell_type": "code",
   "execution_count": 14,
   "metadata": {
    "collapsed": true
   },
   "outputs": [],
   "source": [
    "a = np.random.randint(0, 5, (5, 3))\n",
    "b = np.random.randint(5, 11, (5, 3))"
   ]
  },
  {
   "cell_type": "code",
   "execution_count": 18,
   "metadata": {
    "collapsed": false
   },
   "outputs": [
    {
     "name": "stdout",
     "output_type": "stream",
     "text": [
      "[[71 85 68]\n",
      " [77 85 85]\n",
      " [69 84 79]] \n",
      " [[71 77 69]\n",
      " [85 85 84]\n",
      " [68 85 79]]\n"
     ]
    }
   ],
   "source": [
    "prod1 = np.dot(a.T, b)\n",
    "prod2 = np.dot(b.T, a)\n",
    "print(prod1,'\\n', prod2)"
   ]
  },
  {
   "cell_type": "code",
   "execution_count": 22,
   "metadata": {
    "collapsed": false
   },
   "outputs": [
    {
     "name": "stdout",
     "output_type": "stream",
     "text": [
      "[4 2 1 4 0]\n"
     ]
    }
   ],
   "source": [
    "c = np.random.randint(0, 5, (5, ))\n",
    "print(c)"
   ]
  },
  {
   "cell_type": "code",
   "execution_count": 25,
   "metadata": {
    "collapsed": false
   },
   "outputs": [
    {
     "name": "stdout",
     "output_type": "stream",
     "text": [
      "[[[ 0.  0.  0.  0.  0.]\n",
      "  [ 0.  0.  0.  0.  0.]\n",
      "  [ 0.  0.  0.  0.  0.]\n",
      "  [ 0.  0.  0.  0.  0.]\n",
      "  [ 0.  0.  0.  0.  0.]]\n",
      "\n",
      " [[ 0.  0.  0.  0.  0.]\n",
      "  [ 0.  0.  0.  0.  0.]\n",
      "  [ 0.  0.  0.  0.  0.]\n",
      "  [ 0.  0.  0.  0.  0.]\n",
      "  [ 0.  0.  0.  0.  0.]]\n",
      "\n",
      " [[ 0.  0.  0.  0.  0.]\n",
      "  [ 0.  0.  0.  0.  0.]\n",
      "  [ 0.  0.  0.  0.  0.]\n",
      "  [ 0.  0.  0.  0.  0.]\n",
      "  [ 0.  0.  0.  0.  0.]]]\n"
     ]
    }
   ],
   "source": [
    "s = np.zeros((3, 5, 5))\n",
    "print(s)"
   ]
  },
  {
   "cell_type": "code",
   "execution_count": 26,
   "metadata": {
    "collapsed": false
   },
   "outputs": [
    {
     "name": "stdout",
     "output_type": "stream",
     "text": [
      "[[1 4 3 3 1]\n",
      " [5 4 5 5 4]\n",
      " [5 5 4 5 1]\n",
      " [1 4 1 3 2]]\n"
     ]
    }
   ],
   "source": [
    "a = np.random.randint(1, 6, (4, 5))\n",
    "print(a)"
   ]
  },
  {
   "cell_type": "code",
   "execution_count": 27,
   "metadata": {
    "collapsed": false
   },
   "outputs": [
    {
     "data": {
      "text/plain": [
       "array([1, 4, 3, 3, 1])"
      ]
     },
     "execution_count": 27,
     "metadata": {},
     "output_type": "execute_result"
    }
   ],
   "source": [
    "a[0]"
   ]
  },
  {
   "cell_type": "code",
   "execution_count": 28,
   "metadata": {
    "collapsed": false
   },
   "outputs": [
    {
     "name": "stdout",
     "output_type": "stream",
     "text": [
      "[(0, 0, 0, 0, 0), (0, 0, 0, 0, 0), (0, 0, 0, 0, 0), (0, 0, 0, 0, 0)]\n"
     ]
    }
   ],
   "source": [
    "a = (0, 0, 0, 0, 0)\n",
    "cache = [a for i in range(4)]\n",
    "print(cache)"
   ]
  },
  {
   "cell_type": "code",
   "execution_count": 29,
   "metadata": {
    "collapsed": false
   },
   "outputs": [
    {
     "name": "stdout",
     "output_type": "stream",
     "text": [
      "[[4, 5, 6, 7, 8], (0, 0, 0, 0, 0), (0, 0, 0, 0, 0), (0, 0, 0, 0, 0)]\n"
     ]
    }
   ],
   "source": [
    "cache[0] = [4, 5, 6, 7, 8]\n",
    "print(cache)"
   ]
  },
  {
   "cell_type": "code",
   "execution_count": 31,
   "metadata": {
    "collapsed": false
   },
   "outputs": [
    {
     "name": "stdout",
     "output_type": "stream",
     "text": [
      "2\n",
      "1\n",
      "0\n"
     ]
    }
   ],
   "source": [
    "for i in range(2, -1, -1):\n",
    "    print(i)"
   ]
  },
  {
   "cell_type": "code",
   "execution_count": null,
   "metadata": {
    "collapsed": true
   },
   "outputs": [],
   "source": []
  }
 ],
 "metadata": {
  "kernelspec": {
   "display_name": "Python 3",
   "language": "python",
   "name": "python3"
  },
  "language_info": {
   "codemirror_mode": {
    "name": "ipython",
    "version": 3
   },
   "file_extension": ".py",
   "mimetype": "text/x-python",
   "name": "python",
   "nbconvert_exporter": "python",
   "pygments_lexer": "ipython3",
   "version": "3.5.2"
  }
 },
 "nbformat": 4,
 "nbformat_minor": 2
}
